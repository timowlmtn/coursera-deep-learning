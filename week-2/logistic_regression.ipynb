{
 "cells": [
  {
   "cell_type": "code",
   "execution_count": 4,
   "metadata": {
    "collapsed": true,
    "ExecuteTime": {
     "end_time": "2024-03-25T18:21:49.247056Z",
     "start_time": "2024-03-25T18:21:37.450309Z"
    }
   },
   "outputs": [
    {
     "name": "stdout",
     "output_type": "stream",
     "text": [
      "The autoreload extension is already loaded. To reload it, use:\n",
      "  %reload_ext autoreload\n"
     ]
    }
   ],
   "source": [
    "import numpy as np\n",
    "import copy\n",
    "import matplotlib.pyplot as plt\n",
    "import h5py\n",
    "import scipy\n",
    "from PIL import Image\n",
    "from scipy import ndimage\n",
    "import tensorflow as tf\n",
    "%matplotlib inline\n",
    "%load_ext autoreload\n",
    "%autoreload 2"
   ]
  },
  {
   "cell_type": "code",
   "execution_count": 5,
   "outputs": [],
   "source": [
    "def load(f, label):\n",
    "    # load the file into tensor\n",
    "    image = tf.io.read_file(f)\n",
    "    # Decode it to JPEG format\n",
    "    image = tf.image.decode_jpeg(image)\n",
    "    # Convert it to tf.float32\n",
    "    image = tf.cast(image, tf.float32)\n",
    "\n",
    "    return image, label"
   ],
   "metadata": {
    "collapsed": false,
    "ExecuteTime": {
     "end_time": "2024-03-25T18:21:49.285581Z",
     "start_time": "2024-03-25T18:21:49.248067Z"
    }
   }
  },
  {
   "cell_type": "code",
   "execution_count": 7,
   "outputs": [],
   "source": [
    "matrix = np.array([[1, 2, 3, 4],\n",
    "                   [5, 6, 7, 8],\n",
    "                   [9, 10, 11, 12]])\n",
    "\n",
    "# Flatten the matrix\n",
    "flattened_matrix = matrix.flatten()"
   ],
   "metadata": {
    "collapsed": false,
    "ExecuteTime": {
     "end_time": "2024-03-25T18:28:34.499717Z",
     "start_time": "2024-03-25T18:28:34.463041Z"
    }
   }
  },
  {
   "cell_type": "code",
   "execution_count": 8,
   "outputs": [
    {
     "data": {
      "text/plain": "array([[ 1,  2,  3,  4],\n       [ 5,  6,  7,  8],\n       [ 9, 10, 11, 12]])"
     },
     "execution_count": 8,
     "metadata": {},
     "output_type": "execute_result"
    }
   ],
   "source": [
    "matrix"
   ],
   "metadata": {
    "collapsed": false,
    "ExecuteTime": {
     "end_time": "2024-03-25T18:28:39.701947Z",
     "start_time": "2024-03-25T18:28:39.672329Z"
    }
   }
  },
  {
   "cell_type": "code",
   "execution_count": 9,
   "outputs": [
    {
     "data": {
      "text/plain": "array([ 1,  2,  3,  4,  5,  6,  7,  8,  9, 10, 11, 12])"
     },
     "execution_count": 9,
     "metadata": {},
     "output_type": "execute_result"
    }
   ],
   "source": [
    "flattened_matrix"
   ],
   "metadata": {
    "collapsed": false,
    "ExecuteTime": {
     "end_time": "2024-03-25T18:28:47.967509Z",
     "start_time": "2024-03-25T18:28:47.934351Z"
    }
   }
  },
  {
   "cell_type": "code",
   "execution_count": 10,
   "outputs": [],
   "source": [
    "X = matrix"
   ],
   "metadata": {
    "collapsed": false,
    "ExecuteTime": {
     "end_time": "2024-03-25T18:29:50.417493Z",
     "start_time": "2024-03-25T18:29:50.384117Z"
    }
   }
  },
  {
   "cell_type": "code",
   "execution_count": 11,
   "outputs": [
    {
     "data": {
      "text/plain": "3"
     },
     "execution_count": 11,
     "metadata": {},
     "output_type": "execute_result"
    }
   ],
   "source": [
    "X.shape[0]"
   ],
   "metadata": {
    "collapsed": false,
    "ExecuteTime": {
     "end_time": "2024-03-25T18:29:58.154485Z",
     "start_time": "2024-03-25T18:29:58.123907Z"
    }
   }
  },
  {
   "cell_type": "code",
   "execution_count": 13,
   "outputs": [
    {
     "data": {
      "text/plain": "array([[ 1,  5,  9],\n       [ 2,  6, 10],\n       [ 3,  7, 11],\n       [ 4,  8, 12]])"
     },
     "execution_count": 13,
     "metadata": {},
     "output_type": "execute_result"
    }
   ],
   "source": [
    "X.reshape(X.shape[0], -1).T"
   ],
   "metadata": {
    "collapsed": false,
    "ExecuteTime": {
     "end_time": "2024-03-25T18:30:35.291509Z",
     "start_time": "2024-03-25T18:30:35.260013Z"
    }
   }
  },
  {
   "cell_type": "code",
   "execution_count": 14,
   "outputs": [],
   "source": [
    "a, b, c, d = 2, 3, 4, 5\n",
    "X = np.random.rand(a, b, c, d)"
   ],
   "metadata": {
    "collapsed": false,
    "ExecuteTime": {
     "end_time": "2024-03-25T18:32:40.768488Z",
     "start_time": "2024-03-25T18:32:40.739055Z"
    }
   }
  },
  {
   "cell_type": "code",
   "execution_count": 15,
   "outputs": [
    {
     "data": {
      "text/plain": "array([[[[0.9105237 , 0.51773642, 0.25500268, 0.6218188 , 0.87043724],\n         [0.86490469, 0.36742464, 0.49021675, 0.38596856, 0.02170086],\n         [0.32622437, 0.18445956, 0.88469567, 0.01817139, 0.13732968],\n         [0.06573756, 0.68608811, 0.16628707, 0.37663468, 0.59349687]],\n\n        [[0.49114176, 0.95028524, 0.94696495, 0.74156456, 0.27016756],\n         [0.91382915, 0.51813118, 0.44956681, 0.5609419 , 0.34625252],\n         [0.13199312, 0.99692459, 0.93186919, 0.77052046, 0.76730283],\n         [0.926881  , 0.87172144, 0.71560342, 0.19918387, 0.50306674]],\n\n        [[0.94736882, 0.64811076, 0.23379534, 0.82388321, 0.17074152],\n         [0.87170359, 0.5954767 , 0.09029114, 0.56520948, 0.11979588],\n         [0.55169324, 0.00154427, 0.71326228, 0.60746187, 0.09414424],\n         [0.61568917, 0.07720231, 0.29838599, 0.99659774, 0.62891649]]],\n\n\n       [[[0.20820206, 0.13856097, 0.20482958, 0.6901437 , 0.89756769],\n         [0.90839018, 0.79274901, 0.740405  , 0.02898209, 0.75647177],\n         [0.69905231, 0.82149303, 0.87923611, 0.50644486, 0.55151086],\n         [0.61385872, 0.63514744, 0.43242526, 0.76057829, 0.92785433]],\n\n        [[0.40675484, 0.76602879, 0.55050979, 0.38213704, 0.07917889],\n         [0.33272055, 0.5170594 , 0.82471733, 0.00608867, 0.9707341 ],\n         [0.83872522, 0.60504026, 0.19493528, 0.75267768, 0.51873077],\n         [0.63480965, 0.3727885 , 0.57179636, 0.94166801, 0.98206452]],\n\n        [[0.42818984, 0.12464082, 0.02809894, 0.51186109, 0.81385083],\n         [0.82455196, 0.14140835, 0.48818779, 0.80940645, 0.79565856],\n         [0.69586796, 0.84400391, 0.63998453, 0.58029084, 0.46784589],\n         [0.48968494, 0.28828804, 0.64002685, 0.21399995, 0.91061913]]]])"
     },
     "execution_count": 15,
     "metadata": {},
     "output_type": "execute_result"
    }
   ],
   "source": [
    "X"
   ],
   "metadata": {
    "collapsed": false,
    "ExecuteTime": {
     "end_time": "2024-03-25T18:32:43.973092Z",
     "start_time": "2024-03-25T18:32:43.944673Z"
    }
   }
  },
  {
   "cell_type": "code",
   "execution_count": 16,
   "outputs": [],
   "source": [
    "X_flatten = X.reshape(b*c*d, a)\n"
   ],
   "metadata": {
    "collapsed": false,
    "ExecuteTime": {
     "end_time": "2024-03-25T18:33:26.761148Z",
     "start_time": "2024-03-25T18:33:26.737273Z"
    }
   }
  },
  {
   "cell_type": "code",
   "execution_count": 17,
   "outputs": [
    {
     "name": "stdout",
     "output_type": "stream",
     "text": [
      "Original shape: (2, 3, 4, 5)\n",
      "New shape: (60, 2)\n"
     ]
    }
   ],
   "source": [
    "print(\"Original shape:\", X.shape)\n",
    "print(\"New shape:\", X_flatten.shape)"
   ],
   "metadata": {
    "collapsed": false,
    "ExecuteTime": {
     "end_time": "2024-03-25T18:33:32.493090Z",
     "start_time": "2024-03-25T18:33:32.464356Z"
    }
   }
  },
  {
   "cell_type": "code",
   "execution_count": 18,
   "outputs": [
    {
     "data": {
      "text/plain": "2"
     },
     "execution_count": 18,
     "metadata": {},
     "output_type": "execute_result"
    }
   ],
   "source": [
    "a"
   ],
   "metadata": {
    "collapsed": false,
    "ExecuteTime": {
     "end_time": "2024-03-25T18:33:46.320465Z",
     "start_time": "2024-03-25T18:33:46.293595Z"
    }
   }
  },
  {
   "cell_type": "code",
   "execution_count": null,
   "outputs": [],
   "source": [],
   "metadata": {
    "collapsed": false
   }
  }
 ],
 "metadata": {
  "kernelspec": {
   "display_name": "Python 3",
   "language": "python",
   "name": "python3"
  },
  "language_info": {
   "codemirror_mode": {
    "name": "ipython",
    "version": 2
   },
   "file_extension": ".py",
   "mimetype": "text/x-python",
   "name": "python",
   "nbconvert_exporter": "python",
   "pygments_lexer": "ipython2",
   "version": "2.7.6"
  }
 },
 "nbformat": 4,
 "nbformat_minor": 0
}
