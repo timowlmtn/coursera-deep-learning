{
 "cells": [
  {
   "cell_type": "code",
   "execution_count": 2,
   "metadata": {
    "collapsed": true,
    "ExecuteTime": {
     "end_time": "2024-04-12T10:04:26.167459Z",
     "start_time": "2024-04-12T10:04:21.379705Z"
    }
   },
   "outputs": [],
   "source": [
    "import numpy as np\n",
    "import copy\n",
    "import matplotlib.pyplot as plt\n",
    "import h5py\n",
    "import scipy\n",
    "from PIL import Image\n",
    "from scipy import ndimage\n",
    "import tensorflow as tf\n",
    "%matplotlib inline\n",
    "%load_ext autoreload\n",
    "%autoreload 2"
   ]
  },
  {
   "cell_type": "code",
   "execution_count": 6,
   "outputs": [],
   "source": [
    "def load(f, label):\n",
    "    # load the file into tensor\n",
    "    image = tf.io.read_file(f)\n",
    "    # Decode it to JPEG format\n",
    "    image = tf.image.decode_jpeg(image)\n",
    "    # Convert it to tf.float32\n",
    "    image = tf.cast(image, tf.float32)\n",
    "\n",
    "    return image, label"
   ],
   "metadata": {
    "collapsed": false,
    "ExecuteTime": {
     "end_time": "2024-04-05T10:05:47.158870Z",
     "start_time": "2024-04-05T10:05:47.136889Z"
    }
   }
  },
  {
   "cell_type": "code",
   "execution_count": 7,
   "outputs": [],
   "source": [
    "matrix = np.array([[1, 2, 3, 4],\n",
    "                   [5, 6, 7, 8],\n",
    "                   [9, 10, 11, 12]])\n",
    "\n",
    "# Flatten the matrix\n",
    "flattened_matrix = matrix.flatten()"
   ],
   "metadata": {
    "collapsed": false,
    "ExecuteTime": {
     "end_time": "2024-04-05T10:05:47.178594Z",
     "start_time": "2024-04-05T10:05:47.157336Z"
    }
   }
  },
  {
   "cell_type": "code",
   "execution_count": 8,
   "outputs": [
    {
     "data": {
      "text/plain": "array([[ 1,  2,  3,  4],\n       [ 5,  6,  7,  8],\n       [ 9, 10, 11, 12]])"
     },
     "execution_count": 8,
     "metadata": {},
     "output_type": "execute_result"
    }
   ],
   "source": [
    "matrix"
   ],
   "metadata": {
    "collapsed": false,
    "ExecuteTime": {
     "end_time": "2024-04-05T10:05:47.208159Z",
     "start_time": "2024-04-05T10:05:47.179639Z"
    }
   }
  },
  {
   "cell_type": "code",
   "execution_count": 9,
   "outputs": [
    {
     "data": {
      "text/plain": "array([ 1,  2,  3,  4,  5,  6,  7,  8,  9, 10, 11, 12])"
     },
     "execution_count": 9,
     "metadata": {},
     "output_type": "execute_result"
    }
   ],
   "source": [
    "flattened_matrix"
   ],
   "metadata": {
    "collapsed": false,
    "ExecuteTime": {
     "end_time": "2024-04-05T10:05:47.221550Z",
     "start_time": "2024-04-05T10:05:47.207613Z"
    }
   }
  },
  {
   "cell_type": "code",
   "execution_count": 10,
   "outputs": [],
   "source": [
    "X = matrix"
   ],
   "metadata": {
    "collapsed": false,
    "ExecuteTime": {
     "end_time": "2024-04-05T10:05:47.245321Z",
     "start_time": "2024-04-05T10:05:47.221334Z"
    }
   }
  },
  {
   "cell_type": "code",
   "execution_count": 11,
   "outputs": [
    {
     "data": {
      "text/plain": "3"
     },
     "execution_count": 11,
     "metadata": {},
     "output_type": "execute_result"
    }
   ],
   "source": [
    "X.shape[0]"
   ],
   "metadata": {
    "collapsed": false,
    "ExecuteTime": {
     "end_time": "2024-04-05T10:05:47.265463Z",
     "start_time": "2024-04-05T10:05:47.242440Z"
    }
   }
  },
  {
   "cell_type": "code",
   "execution_count": 12,
   "outputs": [
    {
     "data": {
      "text/plain": "array([[ 1,  5,  9],\n       [ 2,  6, 10],\n       [ 3,  7, 11],\n       [ 4,  8, 12]])"
     },
     "execution_count": 12,
     "metadata": {},
     "output_type": "execute_result"
    }
   ],
   "source": [
    "X.reshape(X.shape[0], -1).T"
   ],
   "metadata": {
    "collapsed": false,
    "ExecuteTime": {
     "end_time": "2024-04-05T10:05:47.285093Z",
     "start_time": "2024-04-05T10:05:47.264140Z"
    }
   }
  },
  {
   "cell_type": "code",
   "execution_count": 13,
   "outputs": [],
   "source": [
    "a, b, c, d = 2, 3, 4, 5\n",
    "X = np.random.rand(a, b, c, d)"
   ],
   "metadata": {
    "collapsed": false,
    "ExecuteTime": {
     "end_time": "2024-04-05T10:05:47.307601Z",
     "start_time": "2024-04-05T10:05:47.285276Z"
    }
   }
  },
  {
   "cell_type": "code",
   "execution_count": 14,
   "outputs": [
    {
     "data": {
      "text/plain": "array([[[[0.83647007, 0.54345025, 0.98317891, 0.28240397, 0.45752501],\n         [0.47562504, 0.29218591, 0.21866173, 0.88040239, 0.13684143],\n         [0.72202886, 0.70735063, 0.97367758, 0.01078286, 0.06125984],\n         [0.11822313, 0.66190365, 0.8722469 , 0.41621145, 0.21817997]],\n\n        [[0.61038092, 0.25646633, 0.36004408, 0.77802752, 0.99290738],\n         [0.0100632 , 0.55718854, 0.73233706, 0.06207454, 0.70883461],\n         [0.77527149, 0.45201847, 0.19578817, 0.88736819, 0.11840845],\n         [0.71183419, 0.04687759, 0.02341289, 0.9267236 , 0.50608916]],\n\n        [[0.4262027 , 0.63661379, 0.89577634, 0.94782481, 0.47372172],\n         [0.78255573, 0.83362004, 0.12240383, 0.40909868, 0.52688706],\n         [0.76721448, 0.23062156, 0.0740437 , 0.03759242, 0.62934909],\n         [0.57027414, 0.17347534, 0.03210952, 0.08649605, 0.67132784]]],\n\n\n       [[[0.64138048, 0.67553662, 0.26967958, 0.34394274, 0.30409431],\n         [0.18929805, 0.55877929, 0.1240349 , 0.68700435, 0.01164095],\n         [0.07728749, 0.60223917, 0.56999413, 0.01318528, 0.65073724],\n         [0.64193809, 0.38496752, 0.18671988, 0.95294642, 0.8770116 ]],\n\n        [[0.51315553, 0.90559499, 0.78747591, 0.094421  , 0.98311529],\n         [0.96355966, 0.69464102, 0.07403389, 0.86109474, 0.19314175],\n         [0.78519379, 0.77954372, 0.44188806, 0.82581641, 0.01837631],\n         [0.03985105, 0.64427644, 0.46506412, 0.40231601, 0.06533898]],\n\n        [[0.21196364, 0.23973489, 0.17869034, 0.59175751, 0.82191817],\n         [0.13175383, 0.70063384, 0.9336678 , 0.14446882, 0.84822296],\n         [0.40785859, 0.64729021, 0.37473042, 0.53495691, 0.974829  ],\n         [0.08360495, 0.99510137, 0.00666264, 0.38032589, 0.77251856]]]])"
     },
     "execution_count": 14,
     "metadata": {},
     "output_type": "execute_result"
    }
   ],
   "source": [
    "X"
   ],
   "metadata": {
    "collapsed": false,
    "ExecuteTime": {
     "end_time": "2024-04-05T10:05:47.333721Z",
     "start_time": "2024-04-05T10:05:47.308792Z"
    }
   }
  },
  {
   "cell_type": "code",
   "execution_count": 15,
   "outputs": [],
   "source": [
    "X_flatten = X.reshape(b*c*d, a)\n"
   ],
   "metadata": {
    "collapsed": false,
    "ExecuteTime": {
     "end_time": "2024-04-05T10:05:47.350868Z",
     "start_time": "2024-04-05T10:05:47.331176Z"
    }
   }
  },
  {
   "cell_type": "code",
   "execution_count": 16,
   "outputs": [
    {
     "name": "stdout",
     "output_type": "stream",
     "text": [
      "Original shape: (2, 3, 4, 5)\n",
      "New shape: (60, 2)\n"
     ]
    }
   ],
   "source": [
    "print(\"Original shape:\", X.shape)\n",
    "print(\"New shape:\", X_flatten.shape)"
   ],
   "metadata": {
    "collapsed": false,
    "ExecuteTime": {
     "end_time": "2024-04-05T10:05:47.523466Z",
     "start_time": "2024-04-05T10:05:47.445414Z"
    }
   }
  },
  {
   "cell_type": "code",
   "execution_count": 17,
   "outputs": [
    {
     "data": {
      "text/plain": "2"
     },
     "execution_count": 17,
     "metadata": {},
     "output_type": "execute_result"
    }
   ],
   "source": [
    "a"
   ],
   "metadata": {
    "collapsed": false,
    "ExecuteTime": {
     "end_time": "2024-04-05T10:05:48.122908Z",
     "start_time": "2024-04-05T10:05:48.097588Z"
    }
   }
  },
  {
   "cell_type": "code",
   "execution_count": 18,
   "outputs": [],
   "source": [
    "x = 64*64*3"
   ],
   "metadata": {
    "collapsed": false,
    "ExecuteTime": {
     "end_time": "2024-04-05T10:05:48.738627Z",
     "start_time": "2024-04-05T10:05:48.713696Z"
    }
   }
  },
  {
   "cell_type": "code",
   "execution_count": 19,
   "outputs": [],
   "source": [
    "X = np.array([[2, 3], [3, 4]])"
   ],
   "metadata": {
    "collapsed": false,
    "ExecuteTime": {
     "end_time": "2024-04-05T10:05:49.277159Z",
     "start_time": "2024-04-05T10:05:49.251792Z"
    }
   }
  },
  {
   "cell_type": "code",
   "execution_count": 20,
   "outputs": [
    {
     "data": {
      "text/plain": "array([[2],\n       [3],\n       [3],\n       [4]])"
     },
     "execution_count": 20,
     "metadata": {},
     "output_type": "execute_result"
    }
   ],
   "source": [
    "X.reshape(4,1)\n"
   ],
   "metadata": {
    "collapsed": false,
    "ExecuteTime": {
     "end_time": "2024-04-05T10:05:49.791920Z",
     "start_time": "2024-04-05T10:05:49.767575Z"
    }
   }
  },
  {
   "cell_type": "code",
   "execution_count": 21,
   "outputs": [
    {
     "data": {
      "text/plain": "array([2, 3])"
     },
     "execution_count": 21,
     "metadata": {},
     "output_type": "execute_result"
    }
   ],
   "source": [
    "X[0]"
   ],
   "metadata": {
    "collapsed": false,
    "ExecuteTime": {
     "end_time": "2024-04-05T10:06:12.471008Z",
     "start_time": "2024-04-05T10:06:12.448817Z"
    }
   }
  },
  {
   "cell_type": "code",
   "execution_count": 22,
   "outputs": [
    {
     "ename": "ValueError",
     "evalue": "cannot reshape array of size 4 into shape (2,1)",
     "output_type": "error",
     "traceback": [
      "\u001B[0;31m---------------------------------------------------------------------------\u001B[0m",
      "\u001B[0;31mValueError\u001B[0m                                Traceback (most recent call last)",
      "Cell \u001B[0;32mIn[22], line 1\u001B[0m\n\u001B[0;32m----> 1\u001B[0m w \u001B[38;5;241m=\u001B[39m \u001B[43mX\u001B[49m\u001B[38;5;241;43m.\u001B[39;49m\u001B[43mreshape\u001B[49m\u001B[43m(\u001B[49m\u001B[43mX\u001B[49m\u001B[38;5;241;43m.\u001B[39;49m\u001B[43mshape\u001B[49m\u001B[43m[\u001B[49m\u001B[38;5;241;43m0\u001B[39;49m\u001B[43m]\u001B[49m\u001B[43m,\u001B[49m\u001B[43m \u001B[49m\u001B[38;5;241;43m1\u001B[39;49m\u001B[43m)\u001B[49m\n",
      "\u001B[0;31mValueError\u001B[0m: cannot reshape array of size 4 into shape (2,1)"
     ]
    }
   ],
   "source": [
    "w = X.reshape(X.shape[0], 1)"
   ],
   "metadata": {
    "collapsed": false,
    "ExecuteTime": {
     "end_time": "2024-04-05T10:06:34.351105Z",
     "start_time": "2024-04-05T10:06:34.175952Z"
    }
   }
  },
  {
   "cell_type": "code",
   "execution_count": 24,
   "outputs": [
    {
     "data": {
      "text/plain": "2"
     },
     "execution_count": 24,
     "metadata": {},
     "output_type": "execute_result"
    }
   ],
   "source": [
    "X.shape[0]"
   ],
   "metadata": {
    "collapsed": false,
    "ExecuteTime": {
     "end_time": "2024-04-05T10:07:12.132352Z",
     "start_time": "2024-04-05T10:07:12.102558Z"
    }
   }
  },
  {
   "cell_type": "code",
   "execution_count": 25,
   "outputs": [
    {
     "data": {
      "text/plain": "2"
     },
     "execution_count": 25,
     "metadata": {},
     "output_type": "execute_result"
    }
   ],
   "source": [
    "X.shape[0]"
   ],
   "metadata": {
    "collapsed": false,
    "ExecuteTime": {
     "end_time": "2024-04-05T11:31:11.773577Z",
     "start_time": "2024-04-05T11:31:11.715108Z"
    }
   }
  },
  {
   "cell_type": "code",
   "execution_count": 3,
   "outputs": [],
   "source": [
    "\n",
    "x = np.random.rand(4, 5)\n",
    "\n",
    "y = np.sum(x, axis=1)"
   ],
   "metadata": {
    "collapsed": false,
    "ExecuteTime": {
     "end_time": "2024-04-12T10:04:32.946512Z",
     "start_time": "2024-04-12T10:04:32.920438Z"
    }
   }
  },
  {
   "cell_type": "code",
   "execution_count": 4,
   "outputs": [
    {
     "data": {
      "text/plain": "array([1.63792498, 2.81790982, 3.05685025, 2.12638273])"
     },
     "execution_count": 4,
     "metadata": {},
     "output_type": "execute_result"
    }
   ],
   "source": [
    "y"
   ],
   "metadata": {
    "collapsed": false,
    "ExecuteTime": {
     "end_time": "2024-04-12T10:04:38.616570Z",
     "start_time": "2024-04-12T10:04:38.586440Z"
    }
   }
  },
  {
   "cell_type": "code",
   "execution_count": 5,
   "outputs": [
    {
     "data": {
      "text/plain": "(4,)"
     },
     "execution_count": 5,
     "metadata": {},
     "output_type": "execute_result"
    }
   ],
   "source": [
    "y.shape"
   ],
   "metadata": {
    "collapsed": false,
    "ExecuteTime": {
     "end_time": "2024-04-12T10:05:09.608088Z",
     "start_time": "2024-04-12T10:05:09.583633Z"
    }
   }
  },
  {
   "cell_type": "code",
   "execution_count": null,
   "outputs": [],
   "source": [],
   "metadata": {
    "collapsed": false
   }
  }
 ],
 "metadata": {
  "kernelspec": {
   "display_name": "Python 3",
   "language": "python",
   "name": "python3"
  },
  "language_info": {
   "codemirror_mode": {
    "name": "ipython",
    "version": 2
   },
   "file_extension": ".py",
   "mimetype": "text/x-python",
   "name": "python",
   "nbconvert_exporter": "python",
   "pygments_lexer": "ipython2",
   "version": "2.7.6"
  }
 },
 "nbformat": 4,
 "nbformat_minor": 0
}
